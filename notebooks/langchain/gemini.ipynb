{
 "cells": [
  {
   "cell_type": "code",
   "execution_count": 2,
   "id": "9387915c",
   "metadata": {},
   "outputs": [
    {
     "name": "stdout",
     "output_type": "stream",
     "text": [
      "--- Respuesta con invoke() ---\n",
      "La diferencia fundamental entre la mecánica cuántica y la relatividad general reside en las escalas y los fenómenos que describen:\n",
      "\n",
      "* **Mecánica Cuántica:** Describe el comportamiento de la materia a escalas atómicas y subatómicas. Se centra en la naturaleza probabilística de las partículas y sus interacciones, incluyendo fenómenos como la superposición, el entrelazamiento cuántico y la cuantización de la energía.  No considera la gravedad como una fuerza fundamental.\n",
      "\n",
      "* **Relatividad General:** Describe la gravedad como la curvatura del espacio-tiempo causada por la masa y la energía.  Se centra en escalas astronómicas, describiendo el movimiento de objetos masivos como planetas, estrellas y galaxias.  No incorpora la naturaleza cuántica de la materia.\n",
      "\n",
      "\n",
      "En resumen:\n",
      "\n",
      "* **Mecánica cuántica:**  Se ocupa del **qué** sucede a nivel subatómico, utilizando probabilidades y cantidades discretas.\n",
      "* **Relatividad general:** Se ocupa del **cómo** se comporta el espacio-tiempo a gran escala, afectado por la gravedad.\n",
      "\n",
      "\n",
      "El gran desafío de la física moderna es unificar estas dos teorías, que son extremadamente exitosas en sus respectivos dominios, pero incompatibles entre sí.  Una teoría cuántica de la gravedad es el objetivo de mucha investigación actual, ya que ninguna de las dos teorías es capaz de describir adecuadamente fenómenos que involucran simultáneamente gravedad extrema y escalas cuánticas, como el interior de los agujeros negros o el inicio del universo.\n",
      "\n",
      "\n",
      "--- Respuesta con stream() ---\n",
      "La diferencia fundamental entre la mecánica cuántica y la relatividad general radica en **la escala a la que describen el universo y cómo lo hacen:**\n",
      "\n",
      "* **Mecánica cuántica:** Describe el comportamiento de la materia a escalas atómicas y subatómicas. Se centra en la **cuantización** de la energía, el momento y otras propiedades físicas, lo que significa que estas propiedades solo pueden tomar valores discretos en lugar de continuos.  Predice probabilidades en lugar de certezas absolutas sobre el comportamiento de las partículas, utilizando una descripción probabilística basada en funciones de onda.  No considera la gravedad como una fuerza fundamental.\n",
      "\n",
      "* **Relatividad general:** Describe la gravedad como la curvatura del espacio-tiempo causada por la masa y la energía.  Se centra en la escala **macroscópica**, desde planetas y estrellas hasta galaxias y el universo en su conjunto.  Describe la gravedad como una geometría del espacio-tiempo, no como una fuerza como en la física newtoniana. Es una teoría determinista, prediciendo resultados con precisión si se conocen las condiciones iniciales.\n",
      "\n",
      "En resumen:\n",
      "\n",
      "| Característica | Mecánica Cuántica | Relatividad General |\n",
      "|---|---|---|\n",
      "| **Escala** | Subatómica | Macroscópica |\n",
      "| **Naturaleza de la descripción** | Probabilística | Determinista |\n",
      "| **Conceptos centrales** | Cuantización, funciones de onda, probabilidad | Curvatura del espacio-tiempo, gravedad como geometría |\n",
      "| **Fuerzas fundamentales consideradas** | Electromagnetismo, fuerza nuclear fuerte y débil (no gravedad) | Gravedad |\n",
      "\n",
      "\n",
      "El gran desafío de la física moderna es encontrar una teoría que unifique la mecánica cuántica y la relatividad general, ya que ambas son extremadamente exitosas en sus respectivos dominios, pero son incompatibles en su formulación actual.  Esta teoría unificada, a menudo llamada \"teoría del todo\", aún no se ha descubierto.\n"
     ]
    }
   ],
   "source": [
    "import os\n",
    "from dotenv import load_dotenv\n",
    "from langchain_google_genai import ChatGoogleGenerativeAI\n",
    "\n",
    "\n",
    "load_dotenv()\n",
    "\n",
    "\n",
    "llm = ChatGoogleGenerativeAI(model=\"gemini-1.5-flash-latest\")\n",
    "\n",
    "print(\"--- Respuesta con invoke() ---\")\n",
    "question = \"¿Cuál es la diferencia fundamental entre la mecánica cuántica y la relatividad general?\"\n",
    "result = llm.invoke(question)\n",
    "\n",
    "print(result.content)\n",
    "\n",
    "print(\"\\n\\n--- Respuesta con stream() ---\")\n",
    "for chunk in llm.stream(question):\n",
    "    print(chunk.content, end=\"\", flush=True)"
   ]
  }
 ],
 "metadata": {
  "kernelspec": {
   "display_name": "test",
   "language": "python",
   "name": "python3"
  },
  "language_info": {
   "codemirror_mode": {
    "name": "ipython",
    "version": 3
   },
   "file_extension": ".py",
   "mimetype": "text/x-python",
   "name": "python",
   "nbconvert_exporter": "python",
   "pygments_lexer": "ipython3",
   "version": "3.12.11"
  }
 },
 "nbformat": 4,
 "nbformat_minor": 5
}
