{
 "cells": [
  {
   "cell_type": "markdown",
   "metadata": {},
   "source": [
    "# Re Act Agents\n",
    "\n",
    "Son agentes los cuales no solo razonan si no que observan su entorno y ambiente y con base a el usan y llaman los tools que tienen asignados para darle la mejor respuesta al usuario por lo que se podria decir que son agentes que razonan y ejecutan acciones con base en su razonamiento."
   ]
  },
  {
   "cell_type": "code",
   "execution_count": null,
   "metadata": {},
   "outputs": [],
   "source": [
    "from dotenv import load_dotenv\n",
    "load_dotenv()"
   ]
  },
  {
   "cell_type": "code",
   "execution_count": 1,
   "metadata": {},
   "outputs": [],
   "source": [
    "# Tools\n",
    "def calculate_final_score_university(\n",
    "    first_note: float,\n",
    "    second_note: float,\n",
    "    third_note: float,\n",
    "    percentages: list[int] = [30, 30, 40],\n",
    ") -> str:\n",
    "    \"\"\"Calculate the final score of a university student\"\"\"\n",
    "    # Validate percentages list\n",
    "    if len(percentages) != 3:\n",
    "        raise ValueError(\"Percentages list must contain exactly 3 elements\")\n",
    "\n",
    "    if sum(percentages) != 100.0:\n",
    "        raise ValueError(\"Percentages must sum to 100\")\n",
    "    \n",
    "    # Calculate final score\n",
    "    final_score = (\n",
    "        first_note * (percentages[0] / 100) +\n",
    "        second_note * (percentages[1] / 100) +\n",
    "        third_note * (percentages[2] / 100)\n",
    "    )\n",
    "    \n",
    "    return f\"The final score of the student is {final_score:.2f}.\"\n",
    "\n",
    "def sum_numbers(a: int, b: int) -> str:\n",
    "    \"\"\"Sum two numbers\"\"\"\n",
    "    return f\"The sum of {a} and {b} is {a + b}.\""
   ]
  },
  {
   "cell_type": "code",
   "execution_count": 2,
   "metadata": {},
   "outputs": [],
   "source": [
    "from langgraph.prebuilt import create_react_agent\n",
    "from langchain.chat_models import init_chat_model\n",
    "\n",
    "\n",
    "math_assistant = create_react_agent(\n",
    "    model=\"openai:gpt-4o\",\n",
    "    tools=[calculate_final_score_university, sum_numbers],\n",
    "    prompt=\"You are a math assistant. You are given a math problem and you need to solve it.\",\n",
    "    name=\"math_assistant\"\n",
    ")"
   ]
  },
  {
   "cell_type": "code",
   "execution_count": 5,
   "metadata": {},
   "outputs": [
    {
     "name": "stdout",
     "output_type": "stream",
     "text": [
      "Tu nota final en la universidad es 3.77.\n"
     ]
    }
   ],
   "source": [
    "response = math_assistant.invoke({\"messages\": [{\"role\": \"user\", \"content\": \"Cual es mi nota final en la universidad? si mi primera nota es 3.5, mi segunda nota es 4.0 y mi tercera nota es 3.8\"}]})\n",
    "\n",
    "print(response[\"messages\"][-1].content)"
   ]
  }
 ],
 "metadata": {
  "kernelspec": {
   "display_name": "test",
   "language": "python",
   "name": "python3"
  },
  "language_info": {
   "codemirror_mode": {
    "name": "ipython",
    "version": 3
   },
   "file_extension": ".py",
   "mimetype": "text/x-python",
   "name": "python",
   "nbconvert_exporter": "python",
   "pygments_lexer": "ipython3",
   "version": "3.12.11"
  }
 },
 "nbformat": 4,
 "nbformat_minor": 2
}
