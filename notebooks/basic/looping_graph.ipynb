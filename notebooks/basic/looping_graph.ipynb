{
 "cells": [
  {
   "cell_type": "code",
   "execution_count": 8,
   "metadata": {},
   "outputs": [
    {
     "data": {
      "text/plain": [
       "{'number': [86, 54, 26, 59, 2, 77, 66, 35, 89, 24],\n",
       " 'counter': 10,\n",
       " 'name': 'Hola Andrés!'}"
      ]
     },
     "execution_count": 8,
     "metadata": {},
     "output_type": "execute_result"
    }
   ],
   "source": [
    "import random\n",
    "from typing import List, TypedDict\n",
    "from langgraph.graph import StateGraph, END\n",
    "\n",
    "class AgentState(TypedDict):\n",
    "    number: List[int]\n",
    "    counter: int\n",
    "    name: str\n",
    "    \n",
    "def greeting(state: AgentState) -> AgentState:\n",
    "    state[\"name\"] = f\"Hola {state[\"name\"]}!\"\n",
    "    state[\"counter\"] = 0\n",
    "    return state\n",
    "\n",
    "def random_node(state: AgentState) -> AgentState:\n",
    "    state[\"number\"].append(random.randint(1, 100))\n",
    "    state[\"counter\"] += 1\n",
    "    return state\n",
    "\n",
    "def should_continue(state: AgentState) -> str:\n",
    "    if state[\"counter\"] < 10:\n",
    "        return \"loop\"\n",
    "    else:\n",
    "        return END\n",
    "\n",
    "graph = StateGraph(AgentState)\n",
    "graph.add_node(greeting)\n",
    "graph.add_node(random_node)\n",
    "\n",
    "graph.set_entry_point(\"greeting\")\n",
    "graph.add_edge(\"greeting\", \"random_node\")\n",
    "graph.add_conditional_edges(\"random_node\", should_continue, {\n",
    "    \"loop\": \"random_node\",\n",
    "    END: END\n",
    "})\n",
    "\n",
    "\n",
    "app = graph.compile()\n",
    "\n",
    "app.invoke({\"name\": \"Andrés\", \"number\": [], \"counter\": 0})"
   ]
  },
  {
   "cell_type": "code",
   "execution_count": 9,
   "metadata": {},
   "outputs": [
    {
     "data": {
      "image/png": "[encoded data removed]",
      "text/plain": [
       "<IPython.core.display.Image object>"
      ]
     },
     "metadata": {},
     "output_type": "display_data"
    }
   ],
   "source": [
    "from IPython.display import Image, display\n",
    "\n",
    "\n",
    "display(Image(app.get_graph().draw_mermaid_png()))"
   ]
  }
 ],
 "metadata": {
  "kernelspec": {
   "display_name": "test",
   "language": "python",
   "name": "python3"
  },
  "language_info": {
   "codemirror_mode": {
    "name": "ipython",
    "version": 3
   },
   "file_extension": ".py",
   "mimetype": "text/x-python",
   "name": "python",
   "nbconvert_exporter": "python",
   "pygments_lexer": "ipython3",
   "version": "3.12.11"
  }
 },
 "nbformat": 4,
 "nbformat_minor": 2
}
