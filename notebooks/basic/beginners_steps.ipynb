{
 "cells": [
  {
   "cell_type": "code",
   "execution_count": 9,
   "metadata": {},
   "outputs": [
    {
     "data": {
      "text/plain": [
       "True"
      ]
     },
     "execution_count": 9,
     "metadata": {},
     "output_type": "execute_result"
    }
   ],
   "source": [
    "from dotenv import load_dotenv\n",
    "load_dotenv()"
   ]
  },
  {
   "cell_type": "markdown",
   "metadata": {},
   "source": [
    "# **Basicos para empezar**\n",
    "\n",
    "Es bueno antes de empezar a hablar de langgraph tener en cuenta estos conceptos ya que a la hora de diseñar ciertas funciones o functions calls van a ser utiles estos conceptos por que es importante repasarlos antes de ..."
   ]
  },
  {
   "cell_type": "markdown",
   "metadata": {},
   "source": [
    "## **Typing**\n",
    "\n",
    "Esto es importante por nos permite observar como tiparemos los tools a futuro para que nuestros agentes lo usen de manera correcta\n"
   ]
  },
  {
   "cell_type": "markdown",
   "metadata": {},
   "source": [
    "### Diccionarios!"
   ]
  },
  {
   "cell_type": "code",
   "execution_count": 4,
   "metadata": {},
   "outputs": [],
   "source": [
    "from typing import TypedDict\n",
    "\n",
    "class Movie(TypedDict):\n",
    "    name: str\n",
    "    year: int\n",
    "\n",
    "movie = Movie(name=\"Avengers Endgame\", year=2019)"
   ]
  },
  {
   "cell_type": "markdown",
   "metadata": {},
   "source": [
    "### Union"
   ]
  },
  {
   "cell_type": "code",
   "execution_count": 7,
   "metadata": {},
   "outputs": [],
   "source": [
    "from typing import Union\n",
    "\n",
    "def square(x: Union[int, float]) -> float:\n",
    "    return x * x\n",
    "\n",
    "x = 5          # ✅ esto está bien porque es un entero\n",
    "x = 1.234      # ✅ esto también está bien porque es un flotante\n",
    "x = \"I am a string!\"  # ❌ esto fallará porque es una cadena"
   ]
  },
  {
   "cell_type": "markdown",
   "metadata": {},
   "source": [
    "### Any\n"
   ]
  },
  {
   "cell_type": "code",
   "execution_count": 6,
   "metadata": {},
   "outputs": [
    {
     "name": "stdout",
     "output_type": "stream",
     "text": [
      "Hello, world!\n",
      "123\n",
      "True\n",
      "None\n",
      "[1, 2, 3]\n",
      "{'name': 'John', 'age': 30}\n"
     ]
    }
   ],
   "source": [
    "from typing import Any\n",
    "\n",
    "def print_something(something: Any):\n",
    "    print(something)\n",
    "\n",
    "# Esto es valido porque Any es un tipo que puede ser cualquier cosa\n",
    "print_something(\"Hello, world!\")\n",
    "print_something(123)\n",
    "print_something(True)\n",
    "print_something(None)\n",
    "print_something([1, 2, 3])\n",
    "print_something({\"name\": \"John\", \"age\": 30})"
   ]
  },
  {
   "cell_type": "markdown",
   "metadata": {},
   "source": [
    "### Optional"
   ]
  },
  {
   "cell_type": "code",
   "execution_count": 8,
   "metadata": {},
   "outputs": [
    {
     "name": "stdout",
     "output_type": "stream",
     "text": [
      "Hello, John!\n",
      "Hello, world!\n"
     ]
    }
   ],
   "source": [
    "from typing import Optional\n",
    "\n",
    "def nice_message(name: Optional[str]) -> str:\n",
    "    if name is None:\n",
    "        return \"Hello, world!\"\n",
    "    else:\n",
    "        return f\"Hello, {name}!\"\n",
    "\n",
    "# Esto es valido porque Optional[str] es un tipo que puede ser None o str\n",
    "print(nice_message(\"John\"))\n",
    "print(nice_message(None))"
   ]
  },
  {
   "cell_type": "markdown",
   "metadata": {},
   "source": [
    "## **Lambdas**\n",
    "\n",
    " Funciones simples que permiten escribir logica sin necesidad de mucha sintaxis\n"
   ]
  },
  {
   "cell_type": "code",
   "execution_count": 3,
   "metadata": {},
   "outputs": [
    {
     "name": "stdout",
     "output_type": "stream",
     "text": [
      "100\n",
      "[1, 4, 9, 16]\n"
     ]
    }
   ],
   "source": [
    "# Definir una función lambda para calcular el cuadrado\n",
    "square = lambda x: x * x\n",
    "\n",
    "# Usar la función lambda\n",
    "print(square(10))  # Salida: 100\n",
    "\n",
    "# Aplicar una función lambda a una lista usando map\n",
    "nums = [1, 2, 3, 4]\n",
    "squares = list(map(lambda x: x * x, nums))\n",
    "\n",
    "print(squares)  # Salida: [1, 4, 9, 16]"
   ]
  },
  {
   "cell_type": "markdown",
   "metadata": {},
   "source": [
    "# **LangGraph**\n",
    "\n",
    "Langgraph es una libreria de los mismos creadores de langchain la cual nos permite crear flujos complejos a partir de un estructura jerarquica muy parecida a un grafo usando modelos de inteligencia artificial en cada nodo, esta libreria tiene varios componentes base que permiten construir esto flujos los cuales son:\n",
    "\n",
    "- **State**: Este simplemente es el contexto que tendra el grafo en X tiempo de toda la aplicación, en pocas palabras es una memoria que puede ser modifica durante tiempo de ejecución.\n",
    "- **Nodes**: Estos vienen siendo las diferentes funciones o operaciones que ejecutan las diferentes tareas del grafo, cada uno de estos nodos juega con el estado y el input del usuario para procesarlos y asi generar una respuesta.\n",
    "- **Grafo**: Este es el flujo final que tomara el input del usuario para ser procesado y asi poder ejecutar las tareas para generar la respuesta deseada.\n",
    "- **Caminos**: Estas son las conexiones que se hacen entre nodos y describen los diferentes caminos que se pueden tomar en el grafo para procesar la información.\n",
    "- **Caminos** condicionales: Son caminos en el nodo los cuales se ejecutan bajo ciertas condiciones y tienen dos o mas posibilidades.\n",
    "- **INICIO**: es donde inicia todo el flujo del grafo y ademas describe el la entrada del usuario\n",
    "- **FIN**: describe el fin del flujo del grafo y la respuesta generada por el flujo descrito.\n",
    "- **Tools**: Herramientas que usaran los agentes para llevar a cabo tareas con plataformas externas al grafo.\n",
    "- **ToolNode**: Es un tipo de nodo que internamente ya maneja la logica para llamar los tools cuando sea necesario.\n",
    "- **StateGraph**: Estado abstracto minimo que deberia tener todo grafo para funcionar, no es obligatorio.\n",
    "- **Message**: Describen los diferentes tipos de mensajes que puede llegar a usar entre ellos: Tool, User, Ai, System y Function  "
   ]
  },
  {
   "cell_type": "markdown",
   "metadata": {},
   "source": [
    "### Hola mundo\n",
    "\n"
   ]
  },
  {
   "cell_type": "code",
   "execution_count": 11,
   "metadata": {},
   "outputs": [
    {
     "data": {
      "text/plain": [
       "{'message': 'Hello, Andrés!'}"
      ]
     },
     "execution_count": 11,
     "metadata": {},
     "output_type": "execute_result"
    }
   ],
   "source": [
    "from typing import TypedDict\n",
    "\n",
    "from langgraph.graph import StateGraph, START, END\n",
    "\n",
    "class AgentState(TypedDict):\n",
    "    message: str\n",
    "\n",
    "def greatings(state: AgentState) -> AgentState:\n",
    "    state[\"message\"] = f\"Hello, {state['message']}!\"\n",
    "    return state\n",
    "\n",
    "\n",
    "graph = StateGraph(AgentState)\n",
    "\n",
    "graph.add_node(\"greatings\", greatings)\n",
    "graph.add_edge(START, \"greatings\")\n",
    "graph.add_edge(\"greatings\", END)\n",
    "\n",
    "workflow = graph.compile()\n",
    "\n",
    "workflow.invoke({\"message\": \"Andrés\"})"
   ]
  },
  {
   "cell_type": "code",
   "execution_count": 12,
   "metadata": {},
   "outputs": [
    {
     "data": {
      "image/png": "[encoded data removed]",
      "text/plain": [
       "<IPython.core.display.Image object>"
      ]
     },
     "metadata": {},
     "output_type": "display_data"
    }
   ],
   "source": [
    "from IPython.display import Image, display\n",
    "\n",
    "\n",
    "display(Image(workflow.get_graph().draw_mermaid_png()))"
   ]
  },
  {
   "cell_type": "markdown",
   "metadata": {},
   "source": [
    "### Ejercicio extender \"Hola mundo\"\n"
   ]
  },
  {
   "cell_type": "code",
   "execution_count": 16,
   "metadata": {},
   "outputs": [
    {
     "name": "stdout",
     "output_type": "stream",
     "text": [
      "{'messages': ['Que ondita?', 'Hola, ¿cómo te llamas?'], 'name': None}\n",
      "{'messages': ['Que ondita?', 'Hola, Andrés!'], 'name': 'Andrés'}\n"
     ]
    }
   ],
   "source": [
    "from typing import TypedDict\n",
    "\n",
    "from langgraph.graph import StateGraph, START, END\n",
    "\n",
    "class AgentState(TypedDict):\n",
    "    messages: list[str]\n",
    "    name: str\n",
    "\n",
    "def say_hi(state: AgentState) -> AgentState:\n",
    "    if state[\"name\"] is None:\n",
    "        state[\"messages\"].append(\"Hola, ¿cómo te llamas?\")\n",
    "    else:\n",
    "        state[\"messages\"].append(f\"Hola, {state['name']}!\")\n",
    "    return state\n",
    "\n",
    "\n",
    "graph_builder = StateGraph(AgentState)\n",
    "\n",
    "graph_builder.add_node(\"say_hi\", say_hi)\n",
    "graph_builder.add_edge(START, \"say_hi\")\n",
    "graph_builder.add_edge(\"say_hi\", END)\n",
    "\n",
    "workflow_v2 = graph_builder.compile()\n",
    "\n",
    "result = workflow_v2.invoke({\"messages\": [\"Que ondita?\"], \"name\": None})\n",
    "print(result)\n",
    "\n",
    "result = workflow_v2.invoke({\"messages\": [\"Que ondita?\"], \"name\": \"Andrés\"})\n",
    "print(result)"
   ]
  },
  {
   "cell_type": "markdown",
   "metadata": {},
   "source": [
    "### Varias entradas"
   ]
  },
  {
   "cell_type": "code",
   "execution_count": 18,
   "metadata": {},
   "outputs": [],
   "source": [
    "from langgraph.graph import StateGraph, START, END\n",
    "from typing import TypedDict, List\n",
    "\n",
    "\n",
    "class AgentState(TypedDict):\n",
    "    values: List[int]\n",
    "    name: str\n",
    "    result: str"
   ]
  },
  {
   "cell_type": "code",
   "execution_count": 19,
   "metadata": {},
   "outputs": [],
   "source": [
    "def process_values(state: AgentState) -> AgentState:\n",
    "    \"\"\"This function process values\"\"\"\n",
    "    state[\"result\"] = f\"Hi, {state['name']}! The sum of your values is {sum(state['values'])}\"\n",
    "    return state"
   ]
  },
  {
   "cell_type": "code",
   "execution_count": 20,
   "metadata": {},
   "outputs": [
    {
     "data": {
      "text/plain": [
       "{'values': [1, 2, 3],\n",
       " 'name': 'Andrés',\n",
       " 'result': 'Hi, Andrés! The sum of your values is 6'}"
      ]
     },
     "execution_count": 20,
     "metadata": {},
     "output_type": "execute_result"
    }
   ],
   "source": [
    "workflow = StateGraph(AgentState)\n",
    "\n",
    "workflow.add_node(\"process_values\", process_values)\n",
    "workflow.add_edge(START, \"process_values\")\n",
    "workflow.add_edge(\"process_values\", END)\n",
    "\n",
    "app = workflow.compile()\n",
    "\n",
    "app.invoke({\"values\": [1, 2, 3], \"name\": \"Andrés\"})"
   ]
  },
  {
   "cell_type": "code",
   "execution_count": 21,
   "metadata": {},
   "outputs": [
    {
     "data": {
      "image/png": "[encoded data removed]",
      "text/plain": [
       "<IPython.core.display.Image object>"
      ]
     },
     "metadata": {},
     "output_type": "display_data"
    }
   ],
   "source": [
    "from IPython.display import Image, display\n",
    "\n",
    "\n",
    "display(Image(app.get_graph().draw_mermaid_png()))"
   ]
  }
 ],
 "metadata": {
  "kernelspec": {
   "display_name": "test",
   "language": "python",
   "name": "python3"
  },
  "language_info": {
   "codemirror_mode": {
    "name": "ipython",
    "version": 3
   },
   "file_extension": ".py",
   "mimetype": "text/x-python",
   "name": "python",
   "nbconvert_exporter": "python",
   "pygments_lexer": "ipython3",
   "version": "3.12.11"
  }
 },
 "nbformat": 4,
 "nbformat_minor": 2
}
